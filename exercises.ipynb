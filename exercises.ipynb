{
 "cells": [
  {
   "attachments": {},
   "cell_type": "markdown",
   "metadata": {},
   "source": [
    "# Secton 3\n",
    "\n",
    "Import numpy for use in this notebook. \\\n",
    "Run the first cell to import numpy and check the version.\n"
   ]
  },
  {
   "cell_type": "code",
   "execution_count": 1,
   "metadata": {},
   "outputs": [
    {
     "name": "stdout",
     "output_type": "stream",
     "text": [
      "1.24.2\n"
     ]
    }
   ],
   "source": [
    "import numpy as np\n",
    "\n",
    "print(np.__version__)"
   ]
  },
  {
   "attachments": {},
   "cell_type": "markdown",
   "metadata": {},
   "source": [
    "# Section 4 (Exercises 1-10)"
   ]
  },
  {
   "attachments": {},
   "cell_type": "markdown",
   "metadata": {},
   "source": [
    "### Exercise 1"
   ]
  },
  {
   "cell_type": "code",
   "execution_count": 3,
   "metadata": {},
   "outputs": [
    {
     "name": "stdout",
     "output_type": "stream",
     "text": [
      "A:  True\n",
      "B:  False\n",
      "C:  False\n",
      "D:  True\n"
     ]
    }
   ],
   "source": [
    "A = np.array([[3, 2, 1, 4],\n",
    "              [5, 2, 1, 6]])\n",
    "\n",
    "B = np.array([[3, 2, 1, 4],\n",
    "              [5, 2, 0, 6]])\n",
    "\n",
    "C = np.array([[True, False, False],\n",
    "              [True, True, True]])\n",
    "\n",
    "D = np.array([0.1, 0.3])\n",
    "\n",
    "#Solution 1\n",
    "print(\"A: \", np.all(A))\n",
    "print(\"B: \", np.all(B))\n",
    "print(\"C: \", np.all(C))\n",
    "print(\"D: \", np.all(D))\n",
    "\n",
    "# Solution 2\n",
    "for name, array in zip(list('ABCD'), [A, B, C, D]):\n",
    "    print(f'{name}: {np.all(array)}')\n"
   ]
  },
  {
   "attachments": {},
   "cell_type": "markdown",
   "metadata": {},
   "source": [
    "### Exercise 2\n",
    "Check if all elements from the following arrays return the logical value True along the axis with index 1\n",
    "\n",
    "```python\n",
    "{\n",
    "    A = np.array([[3, 2, 1, 4],\n",
    "                [5, 2, 1, 6]])\n",
    "\n",
    "    B = np.array([[3, 2, 1, 4],\n",
    "                [5, 2, 0, 6]])\n",
    "\n",
    "    C = np.array([[True, False, False],\n",
    "                [True, True, True]])\n",
    "}\n",
    "```\n",
    "\n",
    "Print result to the console as shown below.\n",
    "\n",
    "Tip: Use the function `np.all()` with the axis argument.\n",
    "\n",
    "Expected result:\n",
    "\n",
    "```python\n",
    "{\n",
    "    A: [ True  True]\n",
    "    B: [ True False]\n",
    "    C: [False  True]\n",
    "}\n",
    "```\n"
   ]
  },
  {
   "cell_type": "code",
   "execution_count": 6,
   "metadata": {},
   "outputs": [
    {
     "name": "stdout",
     "output_type": "stream",
     "text": [
      "A: [ True  True]\n",
      "B: [ True False]\n",
      "C: [False  True]\n"
     ]
    }
   ],
   "source": [
    "A = np.array([[3, 2, 1, 4],\n",
    "              [5, 2, 1, 6]])\n",
    "\n",
    "B = np.array([[3, 2, 1, 4],\n",
    "              [5, 2, 0, 6]])\n",
    "\n",
    "C = np.array([[True, False, False],\n",
    "              [True, True, True]])\n",
    "\n",
    "#solution\n",
    "for name, array in zip(list('ABC'), [A, B, C]):\n",
    "    print(f'{name}: {np.all(array, axis=1)}')\n"
   ]
  },
  {
   "attachments": {},
   "cell_type": "markdown",
   "metadata": {},
   "source": [
    "### Exercise 3\n",
    "\n",
    "Check if any element of the following arrays returns the logical value `True`:\n",
    "\n",
    "```python\n",
    "{\n",
    "    A = np.array([[0, 0, 0],\n",
    "              [0, 0, 0]])\n",
    "\n",
    "    B = np.array([[0, 0, 0],\n",
    "                [0, 1, 0]])\n",
    "\n",
    "    C = np.array([[False, False, False],\n",
    "                [True, False, False]])\n",
    "\n",
    "    D = np.array([[0.1, 0.0]])\n",
    "}\n",
    "```\n",
    "\n",
    "Print result to the console as shown below.\n",
    "\n",
    "Tip: Use the `np.any()` function.\n",
    "\n",
    "Expected result:\n",
    "\n",
    "```python\n",
    "{\n",
    "    A: False\n",
    "    B: True\n",
    "    C: True\n",
    "    D: True\n",
    "}\n",
    "```\n"
   ]
  },
  {
   "cell_type": "code",
   "execution_count": 14,
   "metadata": {},
   "outputs": [
    {
     "name": "stdout",
     "output_type": "stream",
     "text": [
      "A: False\n",
      "B: True\n",
      "C: True\n",
      "D: True\n"
     ]
    }
   ],
   "source": [
    "A = np.array([[0, 0, 0],\n",
    "              [0, 0, 0]])\n",
    "\n",
    "B = np.array([[0, 0, 0],\n",
    "              [0, 1, 0]])\n",
    "\n",
    "C = np.array([[False, False, False],\n",
    "              [True, False, False]])\n",
    "\n",
    "D = np.array([[0.1, 0.0]])\n",
    "\n",
    "#Solution\n",
    "for name, array in zip(list('ABCD'), [A, B, C, D]):\n",
    "    print(f'{name}: {np.any(array)}')"
   ]
  },
  {
   "attachments": {},
   "cell_type": "markdown",
   "metadata": {},
   "source": [
    "## Exercise 4\n",
    "\n",
    "Check if any element of the following arrays returns the logical value True along the axis with index 0:\n",
    "\n",
    "```python\n",
    "{\n",
    "    A = np.array([[0, 0, 0],\n",
    "                 [0, 0, 0]])\n",
    "\n",
    "    B = np.array([[0, 0, 0],\n",
    "                [0, 1, 0]])\n",
    "\n",
    "    C = np.array([[False, False, False],\n",
    "                [True, False, False]])\n",
    "\n",
    "    D = np.array([[0.1, 0.0]])\n",
    "}\n",
    "```\n",
    "\n",
    "Print result to the console as shown below.\n",
    "\n",
    "Tip: Use the `np.any()` function with the axis argument.\n",
    "\n",
    "Expected result:\n",
    "\n",
    "```python\n",
    "{\n",
    "    A: [False False False]\n",
    "    B: [False  True False]\n",
    "    C: [ True False False]\n",
    "    D: [ True False]\n",
    "}\n",
    "```\n"
   ]
  },
  {
   "cell_type": "code",
   "execution_count": 11,
   "metadata": {},
   "outputs": [
    {
     "name": "stdout",
     "output_type": "stream",
     "text": [
      "A: [False False False]\n",
      "B: [False  True False]\n",
      "C: [ True False False]\n",
      "D: [ True False]\n"
     ]
    }
   ],
   "source": [
    "A = np.array([[0, 0, 0],\n",
    "              [0, 0, 0]])\n",
    "\n",
    "B = np.array([[0, 0, 0],\n",
    "              [0, 1, 0]])\n",
    "\n",
    "C = np.array([[False, False, False],\n",
    "              [True, False, False]])\n",
    "\n",
    "D = np.array([[0.1, 0.0]])\n",
    "\n",
    "#Solution\n",
    "for name, array in zip(list('ABCD'), [A, B, C, D]):\n",
    "    print(f'{name}: {np.any(array, axis=0)}')"
   ]
  },
  {
   "attachments": {},
   "cell_type": "markdown",
   "metadata": {},
   "source": [
    "### Exercise 5\n",
    "\n",
    "Check if the following array has missing data (np.nan):\n",
    "\n",
    "```python showLineNumbers\n",
    "{\n",
    "    A = np.array([[3, 2, 1, np.nan],\n",
    "                [5, np.nan, 1, 6]])\n",
    "}\n",
    "```\n",
    "\n",
    "Print result to the console as shown below.\n",
    "\n",
    "Tip: Use the `np.isnan()` function.\n",
    "\n",
    "Expected result:\n",
    "\n",
    "```python\n",
    "{\n",
    "    [[False False False  True],\n",
    "    [False  True  False  False]]\n",
    " }\n",
    "```\n"
   ]
  },
  {
   "cell_type": "code",
   "execution_count": 15,
   "metadata": {},
   "outputs": [
    {
     "data": {
      "text/plain": [
       "array([[False, False, False,  True],\n",
       "       [False,  True, False, False]])"
      ]
     },
     "execution_count": 15,
     "metadata": {},
     "output_type": "execute_result"
    }
   ],
   "source": [
    "A = np.array([[3, 2, 1, np.nan],\n",
    "              [5, np.nan, 1, 6]])\n",
    "\n",
    "# Solution\n",
    "np.isnan(A)"
   ]
  },
  {
   "attachments": {},
   "cell_type": "markdown",
   "metadata": {},
   "source": [
    "Exercise 6\n",
    "Check if the following arrays are equal (element-wise):\n",
    "\n",
    "```python\n",
    "{\n",
    "    A = np.array([0.4, 0.5, 0.3])\n",
    "    B = np.array([0.39999999, 0.5000001, 0.3])\n",
    "}\n",
    "```\n",
    "\n",
    "Use the `np.allclose()` function with default parameters and print result to the console.\n",
    "\n",
    "Expected result:\n",
    "\n",
    "```python\n",
    "    True\n",
    "```\n"
   ]
  },
  {
   "cell_type": "code",
   "execution_count": 17,
   "metadata": {},
   "outputs": [
    {
     "data": {
      "text/plain": [
       "True"
      ]
     },
     "execution_count": 17,
     "metadata": {},
     "output_type": "execute_result"
    }
   ],
   "source": [
    "A = np.array([0.4, 0.5, 0.3])\n",
    "B = np.array([0.39999999, 0.5000001, 0.3])\n",
    "\n",
    "np.allclose(A, B)\n"
   ]
  },
  {
   "attachments": {},
   "cell_type": "markdown",
   "metadata": {},
   "source": [
    "### Exercise 7\n",
    "\n",
    "Check if the following arrays are equal (element-wise):\n",
    "\n",
    "```python\n",
    "{\n",
    "    A = np.array([0.4, 0.5, 0.3])\n",
    "    B = np.array([0.3999999999, 0.5000000001, 0.3])\n",
    "}\n",
    "```\n",
    "\n",
    "Use the comparison operator `==` in this exercise and print the result to the console.\n",
    "\n",
    "Expected result:\n",
    "\n",
    "```python\n",
    "    [False False  True]\n",
    "```\n"
   ]
  },
  {
   "cell_type": "code",
   "execution_count": 19,
   "metadata": {},
   "outputs": [
    {
     "name": "stdout",
     "output_type": "stream",
     "text": [
      "[False False  True]\n"
     ]
    }
   ],
   "source": [
    "A = np.array([0.4, 0.5, 0.3])\n",
    "B = np.array([0.3999999999, 0.5000000001, 0.3])\n",
    "\n",
    "print(A == B)\n"
   ]
  },
  {
   "attachments": {},
   "cell_type": "markdown",
   "metadata": {},
   "source": [
    "### Exercise 8\n",
    "\n",
    "The following arrays are given:\n",
    "\n",
    "```python\n",
    "{\n",
    "    A = np.array([0.4, 0.5, 0.3, 0.9])\n",
    "    B = np.array([0.38, 0.51, 0.3, 0.91])\n",
    "}\n",
    "```\n",
    "\n",
    "Check which numbers (element-wise) from the **A** array are greater than numbers from the **B** array and print result to the console as shown below.\n",
    "\n",
    "Expected result:\n",
    "\n",
    "```python\n",
    "[ True False False False]\n",
    "```\n"
   ]
  },
  {
   "cell_type": "code",
   "execution_count": 20,
   "metadata": {},
   "outputs": [
    {
     "name": "stdout",
     "output_type": "stream",
     "text": [
      "[ True False False False]\n"
     ]
    }
   ],
   "source": [
    "A = np.array([0.4, 0.5, 0.3, 0.9])\n",
    "B = np.array([0.38, 0.51, 0.3, 0.91])\n",
    "\n",
    "print(A > B)"
   ]
  },
  {
   "attachments": {},
   "cell_type": "markdown",
   "metadata": {},
   "source": [
    "### Exercise 9\n",
    "\n",
    "Using *Numpy* create a **4x4 array filled with zeros** (set data type to int). In response print this array to the console.\n",
    "\n",
    "Tip: Use the `np.zeros()` function.\n",
    "\n",
    "Expected result:\n",
    "\n",
    "```\n",
    "[[0 0 0 0]\n",
    " [0 0 0 0]\n",
    " [0 0 0 0]\n",
    " [0 0 0 0]]\n",
    "```\n"
   ]
  },
  {
   "cell_type": "code",
   "execution_count": 28,
   "metadata": {},
   "outputs": [
    {
     "name": "stdout",
     "output_type": "stream",
     "text": [
      "[[0 0 0 0]\n",
      " [0 0 0 0]\n",
      " [0 0 0 0]\n",
      " [0 0 0 0]]\n"
     ]
    }
   ],
   "source": [
    "# Solution\n",
    "zeros=np.zeros(shape=(4, 4), dtype=int)\n",
    "\n",
    "print(zeros)"
   ]
  },
  {
   "attachments": {},
   "cell_type": "markdown",
   "metadata": {},
   "source": [
    "### Exercise 10\n",
    "\n",
    "Using _Numpy_, create an array 10x10 filled with number 255 and set the data type to float. Print this array to the console as shown below.\n",
    "\n",
    "Tip: Use the `np.ones()` or `np.full()` functions.\n",
    "\n",
    "Expected result:\n",
    "\n",
    "```python\n",
    "[[255. 255. 255. 255. 255. 255. 255. 255. 255. 255.]\n",
    " [255. 255. 255. 255. 255. 255. 255. 255. 255. 255.]\n",
    " [255. 255. 255. 255. 255. 255. 255. 255. 255. 255.]\n",
    " [255. 255. 255. 255. 255. 255. 255. 255. 255. 255.]\n",
    " [255. 255. 255. 255. 255. 255. 255. 255. 255. 255.]\n",
    " [255. 255. 255. 255. 255. 255. 255. 255. 255. 255.]\n",
    " [255. 255. 255. 255. 255. 255. 255. 255. 255. 255.]\n",
    " [255. 255. 255. 255. 255. 255. 255. 255. 255. 255.]\n",
    " [255. 255. 255. 255. 255. 255. 255. 255. 255. 255.]\n",
    " [255. 255. 255. 255. 255. 255. 255. 255. 255. 255.]]\n",
    "```\n"
   ]
  },
  {
   "cell_type": "code",
   "execution_count": 32,
   "metadata": {},
   "outputs": [
    {
     "name": "stdout",
     "output_type": "stream",
     "text": [
      "[[255. 255. 255. 255. 255. 255. 255. 255. 255. 255.]\n",
      " [255. 255. 255. 255. 255. 255. 255. 255. 255. 255.]\n",
      " [255. 255. 255. 255. 255. 255. 255. 255. 255. 255.]\n",
      " [255. 255. 255. 255. 255. 255. 255. 255. 255. 255.]\n",
      " [255. 255. 255. 255. 255. 255. 255. 255. 255. 255.]\n",
      " [255. 255. 255. 255. 255. 255. 255. 255. 255. 255.]\n",
      " [255. 255. 255. 255. 255. 255. 255. 255. 255. 255.]\n",
      " [255. 255. 255. 255. 255. 255. 255. 255. 255. 255.]\n",
      " [255. 255. 255. 255. 255. 255. 255. 255. 255. 255.]\n",
      " [255. 255. 255. 255. 255. 255. 255. 255. 255. 255.]]\n"
     ]
    }
   ],
   "source": [
    "# Solution 1\n",
    "print(np.ones(shape=(10, 10), dtype='float') * 255)\n",
    "\n",
    "# Solution 2\n",
    "\n",
    "# numpy.full(shape, fill_value, dtype=None, order='C', *, like=None)\n",
    "\n",
    "mat=np.full(shape=(10, 10), fill_value=255, dtype='float')\n",
    "print(mat)"
   ]
  },
  {
   "attachments": {},
   "cell_type": "markdown",
   "metadata": {},
   "source": [
    "# Setion 5: Excersises 11-20"
   ]
  },
  {
   "attachments": {},
   "cell_type": "markdown",
   "metadata": {},
   "source": [
    "### Exercise 11\n",
    "\n",
    "Using _Numpy_ create a one-dimensional array of all two-digit numbers and print this array to the console as shown below.\n",
    "\n",
    "Tip: Use the `np.arange()` function.\n",
    "\n",
    "Expected result:\n",
    "\n",
    "```python\n",
    "[10 11 12 13 14 15 16 17 18 19 20 21 22 23 24 25 26 27 28 29 30 31 32 33 34 35 36 37 38 39 40 41 42 43 44 45 46 47 48 49 50 51 52 53 54 55 56 57 58 59 60 61 62 63 64 65 66 67 68 69 70 71 72 73 74 75 76 77 78 79 80 81 82 83 84 85 86 87 88 89 90 91 92 93 94 95 96 97 98 99]\n",
    "```\n"
   ]
  },
  {
   "cell_type": "code",
   "execution_count": 38,
   "metadata": {},
   "outputs": [
    {
     "name": "stdout",
     "output_type": "stream",
     "text": [
      "[10 11 12 13 14 15 16 17 18 19 20 21 22 23 24 25 26 27 28 29 30 31 32 33\n",
      " 34 35 36 37 38 39 40 41 42 43 44 45 46 47 48 49 50 51 52 53 54 55 56 57\n",
      " 58 59 60 61 62 63 64 65 66 67 68 69 70 71 72 73 74 75 76 77 78 79 80 81\n",
      " 82 83 84 85 86 87 88 89 90 91 92 93 94 95 96 97 98 99]\n"
     ]
    }
   ],
   "source": [
    "print(np.arange(10, 100, 1))"
   ]
  },
  {
   "attachments": {},
   "cell_type": "markdown",
   "metadata": {},
   "source": [
    "### Exercise 12\n",
    "\n",
    "Using _Numpy_ create the following array:\n",
    "\n",
    "```python\n",
    "    [[10 11 12 13 14 15 16 17 18 19]\n",
    "    [20 21 22 23 24 25 26 27 28 29]\n",
    "    [30 31 32 33 34 35 36 37 38 39]\n",
    "    [40 41 42 43 44 45 46 47 48 49]\n",
    "    [50 51 52 53 54 55 56 57 58 59]\n",
    "    [60 61 62 63 64 65 66 67 68 69]\n",
    "    [70 71 72 73 74 75 76 77 78 79]\n",
    "    [80 81 82 83 84 85 86 87 88 89]\n",
    "    [90 91 92 93 94 95 96 97 98 99]]\n",
    "```\n",
    "\n",
    "Note that the shape of this array is (9, 10). In response, print array to the console.\n",
    "\n",
    "**Tip:** Use the `np.arange()` function and the `np.ndarray.reshape()` method.\n"
   ]
  },
  {
   "cell_type": "code",
   "execution_count": null,
   "metadata": {},
   "outputs": [],
   "source": []
  }
 ],
 "metadata": {
  "kernelspec": {
   "display_name": "Python 3",
   "language": "python",
   "name": "python3"
  },
  "language_info": {
   "codemirror_mode": {
    "name": "ipython",
    "version": 3
   },
   "file_extension": ".py",
   "mimetype": "text/x-python",
   "name": "python",
   "nbconvert_exporter": "python",
   "pygments_lexer": "ipython3",
   "version": "3.11.2"
  },
  "orig_nbformat": 4
 },
 "nbformat": 4,
 "nbformat_minor": 2
}
